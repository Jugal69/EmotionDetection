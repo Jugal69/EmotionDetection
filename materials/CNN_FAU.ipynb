{
 "cells": [
  {
   "cell_type": "markdown",
   "metadata": {},
   "source": [
    "# Deep Glance Classification\n",
    "Using computer vision and Deep learning, we measure how people feel as they watch videos online through their webcam.\n",
    "\n",
    "## Computer Vision - B649\n",
    "### Convolutional Neural Nets - For Gaze Classification\n",
    "### Authors : \n",
    "\n",
    "#### - Arun Nekkalapudi <anekkal@iu.edu>\n",
    "#### - Aditya Singh Kushwah <akushwah@iu.edu> \n",
    "#### - Shreyas Fadnavis <shfadn@iu.edu> \n",
    "#### - Khusaal Giri <kngiri@iu.edu>"
   ]
  },
  {
   "cell_type": "code",
   "execution_count": 513,
   "metadata": {},
   "outputs": [],
   "source": [
    "import os\n",
    "import cv2\n",
    "import tensorflow as tf\n",
    "import numpy as np \n",
    "import matplotlib.pyplot as plt \n",
    "from tensorflow.python.client import timeline\n",
    "%matplotlib inline"
   ]
  },
  {
   "cell_type": "markdown",
   "metadata": {},
   "source": [
    "### Environment Variables - System"
   ]
  },
  {
   "cell_type": "code",
   "execution_count": 514,
   "metadata": {},
   "outputs": [],
   "source": [
    "IMAGE_PATH = r\"D:\\Uni\\Sem 2\\CV\\datasets\\Dataset 4 - cmu\\extended-cohn-kanade-images\\cohn-kanade-images\" \n",
    "IMAGE_LABELS_PATH = r\"D:\\Uni\\Sem 2\\CV\\datasets\\Dataset 4 - cmu\\Emotion\"\n",
    "CONFIG_PATH_OPENCV = r\"D:\\Uni\\Sem 2\\CV\\CV_Final_Project\"\n",
    "CONFIG_PATH_DATA =   r\"D:\\Uni\\Sem 2\\CV\\CV_Final_Project\\data\""
   ]
  },
  {
   "cell_type": "markdown",
   "metadata": {},
   "source": [
    "### Environment Variables - Convolutional Neural Net\n",
    "\n",
    "Configure your convolutional neuralnet over here."
   ]
  },
  {
   "cell_type": "code",
   "execution_count": 580,
   "metadata": {},
   "outputs": [],
   "source": [
    "DATA_FEATURES = []\n",
    "DATA_LABELS = []\n",
    "LEARNING_RATE = 0.001\n",
    "ITER_COUNT = 200\n",
    "BATCH_SIZE = 60\n",
    "DISPLAY_STEP = 10\n",
    "CLASS = 8\n",
    "CHANNELS = 1\n",
    "IMAGE_SIZE = 224\n",
    "N_INPUT = IMAGE_SIZE * IMAGE_SIZE\n",
    "DROPOUT = 0.75"
   ]
  },
  {
   "cell_type": "markdown",
   "metadata": {},
   "source": [
    "### Filter Weights and Biases \n",
    "\n",
    "Modify Filter weights and Biases over here."
   ]
  },
  {
   "cell_type": "code",
   "execution_count": 516,
   "metadata": {},
   "outputs": [],
   "source": [
    "filters = {\n",
    "    'in': tf.Variable(tf.truncated_normal([7,7,CHANNELS,64], stddev=0.01,mean=0), name=\"F1\"),\n",
    "    '2a': tf.Variable(tf.truncated_normal([1,1,64,96], stddev=0.01,mean=0), name=\"F2a\"),\n",
    "    '2b': tf.Variable(tf.truncated_normal([3,3,96,208],stddev=0.01,mean=0), name=\"F2b\"),\n",
    "    '2c': tf.Variable(tf.truncated_normal([1,1,64,64],stddev=0.01,mean=0), name=\"F2c\"),\n",
    "    '3a': tf.Variable(tf.truncated_normal([1,1,272,96],stddev=0.01,mean=0), name=\"F3a\"),\n",
    "    '3b': tf.Variable(tf.truncated_normal([3,3,96,208],stddev=0.01,mean=0), name=\"F3b\"),\n",
    "    '3c': tf.Variable(tf.truncated_normal([1,1,272,64],stddev=0.01,mean=0), name=\"F3c\"),\n",
    "    'fc': tf.Variable(tf.truncated_normal([272*14*14, 11],stddev=0.01,mean=0), name=\"FC\"),\n",
    "    'out': tf.Variable(tf.truncated_normal([11, CLASSES],stddev=0.01,mean=0), name=\"Out\")\n",
    "}\n",
    "\n",
    "biases = {\n",
    "    'in': tf.Variable(tf.truncated_normal([64], stddev=0.01,mean=0), name=\"B1\"),\n",
    "    '2a': tf.Variable(tf.truncated_normal([96], stddev=0.01,mean=0), name=\"B2a\"),\n",
    "    '2b': tf.Variable(tf.truncated_normal([208],stddev=0.01,mean=0), name=\"B2b\"),\n",
    "    '2c': tf.Variable(tf.truncated_normal([64],stddev=0.01,mean=0), name=\"B2c\"),\n",
    "    '3a': tf.Variable(tf.truncated_normal([96],stddev=0.01,mean=0), name=\"B3a\"),\n",
    "    '3b': tf.Variable(tf.truncated_normal([208],stddev=0.01,mean=0), name=\"B3b\"),\n",
    "    '3c': tf.Variable(tf.truncated_normal([64],stddev=0.01,mean=0), name=\"B3c\"),\n",
    "    'fc': tf.Variable(tf.truncated_normal([11],stddev=0.01,mean=0), name=\"BFC\"),\n",
    "    'out': tf.Variable(tf.truncated_normal([CLASSES],stddev=0.01), name=\"B_Out\")\n",
    "}"
   ]
  },
  {
   "cell_type": "markdown",
   "metadata": {},
   "source": [
    "# INFO\n",
    "\n",
    "\n",
    "*__ How to read FACS code __*\n",
    "\n",
    "FACS/S005/001/S0005_001_00000011_facs.txt\n",
    "\n",
    "which has\n",
    "\n",
    "9.0000000e+00 Â Â 4.0000000e+00\n",
    "1.7000000e+01 Â Â 2.0000000e+00\n",
    "\n",
    "this means that AU9d and AU17b are present\n",
    "N.B if an AU is present but the intensity is 0 this means that the\n",
    "intensity was not given\n",
    "\n",
    "e.g.\n",
    "\n",
    "1.20000000e+00 0.000000000e+00\n",
    "\n",
    "just means AU12 (intensity not given).\n",
    "\n",
    "<br />\n",
    "\n",
    "*__ Classes Available __*\n",
    "\n",
    "0=neutral, 1=anger, 2=contempt, 3=disgust, 4=fear, 5=happy, 6=sadness, 7=surprise"
   ]
  },
  {
   "cell_type": "markdown",
   "metadata": {},
   "source": [
    "## 0. Helper functions"
   ]
  },
  {
   "cell_type": "code",
   "execution_count": 517,
   "metadata": {},
   "outputs": [],
   "source": [
    "# Set image_size = 0 to prevent resiing of the image.\n",
    "def grayscaleImage(rootPath,imageName,imgSize=IMAGE_SIZE):\n",
    "    path = os.path.join(rootPath,imageName)\n",
    "    imgData = cv2.imread(path,cv2.IMREAD_GRAYSCALE)\n",
    "    if(imgSize != 0):\n",
    "        imgData = cv2.resize(imgData,(imgSize,imgSize))\n",
    "    return imgData"
   ]
  },
  {
   "cell_type": "code",
   "execution_count": 518,
   "metadata": {},
   "outputs": [],
   "source": [
    "def saveNumpyState(name,data):\n",
    "    if(os.path.isfile(\"/etc/password.txt\")):\n",
    "        os.remove(CONFIG_PATH_DATA,name+'.npy')\n",
    "    np.save(os.path.join(CONFIG_PATH_DATA,name+'.npy'),data)"
   ]
  },
  {
   "cell_type": "markdown",
   "metadata": {},
   "source": [
    "## 1. Data Preprocessing"
   ]
  },
  {
   "cell_type": "markdown",
   "metadata": {},
   "source": [
    "### 1.1. Getting all the faces from the CK+ dataset"
   ]
  },
  {
   "cell_type": "code",
   "execution_count": 519,
   "metadata": {},
   "outputs": [],
   "source": [
    "# Get faces from each image and train on images w.r.t facial features. \n",
    "# Set Output Image size at - environment Variables at the program level. \n",
    "\n",
    "# TODO : 1.FileSize has to be fixed.\n",
    "# 2. Automate  \n",
    "def getFace(imagePath):\n",
    "    grayImage = cv2.imread(imagePath,0)\n",
    "    print(os.getcwd())\n",
    "    haarFaceCascade = cv2.CascadeClassifier(os.path.join(CONFIG_PATH_OPENCV,'haarcascade_frontalface_alt.xml'))\n",
    "    detectedFaces = haarFaceCascade.detectMultiScale(grayImage, scaleFactor=1.1, minNeighbors=10)\n",
    "    \n",
    "    # Only returns one Image- Can be modified to return multiple images.\n",
    "    for (x, y, w, h) in detectedFaces:\n",
    "            r = max(w, h) / 2\n",
    "            centerx = x + w / 2\n",
    "            centery = y + h / 2\n",
    "            nx = int(centerx - r)\n",
    "            ny = int(centery - r)\n",
    "            nr = int(r * 2)\n",
    "            faceImg = grayImage[ny:ny+nr, nx:nx+nr]\n",
    "            lastImg = cv2.resize(faceImg, (IMAGE_SIZE, IMAGE_SIZE))\n",
    "            return lastImg"
   ]
  },
  {
   "cell_type": "markdown",
   "metadata": {},
   "source": [
    "### 1.2. Creating and Processing a testing and training data"
   ]
  },
  {
   "cell_type": "code",
   "execution_count": 570,
   "metadata": {},
   "outputs": [],
   "source": [
    "def getTrainData(train_path = IMAGE_PATH,labels_path = IMAGE_LABELS_PATH ):\n",
    "    count = 0\n",
    "    for root, dirs, files in os.walk(labels_path):\n",
    "        for filename in [f for f in files if f.endswith(\".txt\")]:\n",
    "            arr = filename.split(\"_\")\n",
    "            count = count + 1\n",
    "            dirPath = '\\\\'.join([a for a in arr[:-2]])\n",
    "            image = getFace(os.path.join(train_path,dirPath,filename.replace('_emotion.txt','.png')))\n",
    "            f = open(os.path.join(root, filename))\n",
    "            for line in f:\n",
    "                line = int(float(line.strip()))\n",
    "            # One Hot Encoding\n",
    "            label = []\n",
    "            oneHot = np.zeros(CLASS)\n",
    "            oneHot[line] = 1.0\n",
    "            DATA_LABELS.append(oneHot)\n",
    "            DATA_FEATURES.append(image)\n",
    "    print(count)\n",
    "    saveNumpyState(\"features\",DATA_FEATURES)\n",
    "    saveNumpyState(\"labels\",DATA_LABELS)"
   ]
  },
  {
   "cell_type": "code",
   "execution_count": 521,
   "metadata": {},
   "outputs": [
    {
     "name": "stdout",
     "output_type": "stream",
     "text": [
      "D:\\Uni\\Sem 2\\CV\\datasets\\Dataset 4 - cmu\\extended-cohn-kanade-images\\cohn-kanade-images\n",
      "D:\\Uni\\Sem 2\\CV\\datasets\\Dataset 4 - cmu\\extended-cohn-kanade-images\\cohn-kanade-images\n",
      "D:\\Uni\\Sem 2\\CV\\datasets\\Dataset 4 - cmu\\extended-cohn-kanade-images\\cohn-kanade-images\n",
      "D:\\Uni\\Sem 2\\CV\\datasets\\Dataset 4 - cmu\\extended-cohn-kanade-images\\cohn-kanade-images\n",
      "D:\\Uni\\Sem 2\\CV\\datasets\\Dataset 4 - cmu\\extended-cohn-kanade-images\\cohn-kanade-images\n",
      "D:\\Uni\\Sem 2\\CV\\datasets\\Dataset 4 - cmu\\extended-cohn-kanade-images\\cohn-kanade-images\n",
      "D:\\Uni\\Sem 2\\CV\\datasets\\Dataset 4 - cmu\\extended-cohn-kanade-images\\cohn-kanade-images\n",
      "D:\\Uni\\Sem 2\\CV\\datasets\\Dataset 4 - cmu\\extended-cohn-kanade-images\\cohn-kanade-images\n",
      "D:\\Uni\\Sem 2\\CV\\datasets\\Dataset 4 - cmu\\extended-cohn-kanade-images\\cohn-kanade-images\n",
      "D:\\Uni\\Sem 2\\CV\\datasets\\Dataset 4 - cmu\\extended-cohn-kanade-images\\cohn-kanade-images\n",
      "D:\\Uni\\Sem 2\\CV\\datasets\\Dataset 4 - cmu\\extended-cohn-kanade-images\\cohn-kanade-images\n",
      "D:\\Uni\\Sem 2\\CV\\datasets\\Dataset 4 - cmu\\extended-cohn-kanade-images\\cohn-kanade-images\n",
      "D:\\Uni\\Sem 2\\CV\\datasets\\Dataset 4 - cmu\\extended-cohn-kanade-images\\cohn-kanade-images\n",
      "D:\\Uni\\Sem 2\\CV\\datasets\\Dataset 4 - cmu\\extended-cohn-kanade-images\\cohn-kanade-images\n",
      "D:\\Uni\\Sem 2\\CV\\datasets\\Dataset 4 - cmu\\extended-cohn-kanade-images\\cohn-kanade-images\n",
      "D:\\Uni\\Sem 2\\CV\\datasets\\Dataset 4 - cmu\\extended-cohn-kanade-images\\cohn-kanade-images\n",
      "D:\\Uni\\Sem 2\\CV\\datasets\\Dataset 4 - cmu\\extended-cohn-kanade-images\\cohn-kanade-images\n",
      "D:\\Uni\\Sem 2\\CV\\datasets\\Dataset 4 - cmu\\extended-cohn-kanade-images\\cohn-kanade-images\n",
      "D:\\Uni\\Sem 2\\CV\\datasets\\Dataset 4 - cmu\\extended-cohn-kanade-images\\cohn-kanade-images\n",
      "D:\\Uni\\Sem 2\\CV\\datasets\\Dataset 4 - cmu\\extended-cohn-kanade-images\\cohn-kanade-images\n",
      "D:\\Uni\\Sem 2\\CV\\datasets\\Dataset 4 - cmu\\extended-cohn-kanade-images\\cohn-kanade-images\n",
      "D:\\Uni\\Sem 2\\CV\\datasets\\Dataset 4 - cmu\\extended-cohn-kanade-images\\cohn-kanade-images\n",
      "D:\\Uni\\Sem 2\\CV\\datasets\\Dataset 4 - cmu\\extended-cohn-kanade-images\\cohn-kanade-images\n",
      "D:\\Uni\\Sem 2\\CV\\datasets\\Dataset 4 - cmu\\extended-cohn-kanade-images\\cohn-kanade-images\n",
      "D:\\Uni\\Sem 2\\CV\\datasets\\Dataset 4 - cmu\\extended-cohn-kanade-images\\cohn-kanade-images\n",
      "D:\\Uni\\Sem 2\\CV\\datasets\\Dataset 4 - cmu\\extended-cohn-kanade-images\\cohn-kanade-images\n",
      "D:\\Uni\\Sem 2\\CV\\datasets\\Dataset 4 - cmu\\extended-cohn-kanade-images\\cohn-kanade-images\n",
      "D:\\Uni\\Sem 2\\CV\\datasets\\Dataset 4 - cmu\\extended-cohn-kanade-images\\cohn-kanade-images\n",
      "D:\\Uni\\Sem 2\\CV\\datasets\\Dataset 4 - cmu\\extended-cohn-kanade-images\\cohn-kanade-images\n",
      "D:\\Uni\\Sem 2\\CV\\datasets\\Dataset 4 - cmu\\extended-cohn-kanade-images\\cohn-kanade-images\n",
      "D:\\Uni\\Sem 2\\CV\\datasets\\Dataset 4 - cmu\\extended-cohn-kanade-images\\cohn-kanade-images\n",
      "D:\\Uni\\Sem 2\\CV\\datasets\\Dataset 4 - cmu\\extended-cohn-kanade-images\\cohn-kanade-images\n",
      "D:\\Uni\\Sem 2\\CV\\datasets\\Dataset 4 - cmu\\extended-cohn-kanade-images\\cohn-kanade-images\n",
      "D:\\Uni\\Sem 2\\CV\\datasets\\Dataset 4 - cmu\\extended-cohn-kanade-images\\cohn-kanade-images\n",
      "D:\\Uni\\Sem 2\\CV\\datasets\\Dataset 4 - cmu\\extended-cohn-kanade-images\\cohn-kanade-images\n",
      "D:\\Uni\\Sem 2\\CV\\datasets\\Dataset 4 - cmu\\extended-cohn-kanade-images\\cohn-kanade-images\n",
      "D:\\Uni\\Sem 2\\CV\\datasets\\Dataset 4 - cmu\\extended-cohn-kanade-images\\cohn-kanade-images\n",
      "D:\\Uni\\Sem 2\\CV\\datasets\\Dataset 4 - cmu\\extended-cohn-kanade-images\\cohn-kanade-images\n",
      "D:\\Uni\\Sem 2\\CV\\datasets\\Dataset 4 - cmu\\extended-cohn-kanade-images\\cohn-kanade-images\n",
      "D:\\Uni\\Sem 2\\CV\\datasets\\Dataset 4 - cmu\\extended-cohn-kanade-images\\cohn-kanade-images\n",
      "D:\\Uni\\Sem 2\\CV\\datasets\\Dataset 4 - cmu\\extended-cohn-kanade-images\\cohn-kanade-images\n",
      "D:\\Uni\\Sem 2\\CV\\datasets\\Dataset 4 - cmu\\extended-cohn-kanade-images\\cohn-kanade-images\n",
      "D:\\Uni\\Sem 2\\CV\\datasets\\Dataset 4 - cmu\\extended-cohn-kanade-images\\cohn-kanade-images\n",
      "D:\\Uni\\Sem 2\\CV\\datasets\\Dataset 4 - cmu\\extended-cohn-kanade-images\\cohn-kanade-images\n",
      "D:\\Uni\\Sem 2\\CV\\datasets\\Dataset 4 - cmu\\extended-cohn-kanade-images\\cohn-kanade-images\n",
      "D:\\Uni\\Sem 2\\CV\\datasets\\Dataset 4 - cmu\\extended-cohn-kanade-images\\cohn-kanade-images\n",
      "D:\\Uni\\Sem 2\\CV\\datasets\\Dataset 4 - cmu\\extended-cohn-kanade-images\\cohn-kanade-images\n",
      "D:\\Uni\\Sem 2\\CV\\datasets\\Dataset 4 - cmu\\extended-cohn-kanade-images\\cohn-kanade-images\n",
      "D:\\Uni\\Sem 2\\CV\\datasets\\Dataset 4 - cmu\\extended-cohn-kanade-images\\cohn-kanade-images\n",
      "D:\\Uni\\Sem 2\\CV\\datasets\\Dataset 4 - cmu\\extended-cohn-kanade-images\\cohn-kanade-images\n",
      "D:\\Uni\\Sem 2\\CV\\datasets\\Dataset 4 - cmu\\extended-cohn-kanade-images\\cohn-kanade-images\n",
      "D:\\Uni\\Sem 2\\CV\\datasets\\Dataset 4 - cmu\\extended-cohn-kanade-images\\cohn-kanade-images\n",
      "D:\\Uni\\Sem 2\\CV\\datasets\\Dataset 4 - cmu\\extended-cohn-kanade-images\\cohn-kanade-images\n",
      "D:\\Uni\\Sem 2\\CV\\datasets\\Dataset 4 - cmu\\extended-cohn-kanade-images\\cohn-kanade-images\n",
      "D:\\Uni\\Sem 2\\CV\\datasets\\Dataset 4 - cmu\\extended-cohn-kanade-images\\cohn-kanade-images\n",
      "D:\\Uni\\Sem 2\\CV\\datasets\\Dataset 4 - cmu\\extended-cohn-kanade-images\\cohn-kanade-images\n",
      "D:\\Uni\\Sem 2\\CV\\datasets\\Dataset 4 - cmu\\extended-cohn-kanade-images\\cohn-kanade-images\n",
      "D:\\Uni\\Sem 2\\CV\\datasets\\Dataset 4 - cmu\\extended-cohn-kanade-images\\cohn-kanade-images\n",
      "D:\\Uni\\Sem 2\\CV\\datasets\\Dataset 4 - cmu\\extended-cohn-kanade-images\\cohn-kanade-images\n",
      "D:\\Uni\\Sem 2\\CV\\datasets\\Dataset 4 - cmu\\extended-cohn-kanade-images\\cohn-kanade-images\n",
      "D:\\Uni\\Sem 2\\CV\\datasets\\Dataset 4 - cmu\\extended-cohn-kanade-images\\cohn-kanade-images\n",
      "D:\\Uni\\Sem 2\\CV\\datasets\\Dataset 4 - cmu\\extended-cohn-kanade-images\\cohn-kanade-images\n",
      "D:\\Uni\\Sem 2\\CV\\datasets\\Dataset 4 - cmu\\extended-cohn-kanade-images\\cohn-kanade-images\n",
      "D:\\Uni\\Sem 2\\CV\\datasets\\Dataset 4 - cmu\\extended-cohn-kanade-images\\cohn-kanade-images\n",
      "D:\\Uni\\Sem 2\\CV\\datasets\\Dataset 4 - cmu\\extended-cohn-kanade-images\\cohn-kanade-images\n",
      "D:\\Uni\\Sem 2\\CV\\datasets\\Dataset 4 - cmu\\extended-cohn-kanade-images\\cohn-kanade-images\n",
      "D:\\Uni\\Sem 2\\CV\\datasets\\Dataset 4 - cmu\\extended-cohn-kanade-images\\cohn-kanade-images\n",
      "D:\\Uni\\Sem 2\\CV\\datasets\\Dataset 4 - cmu\\extended-cohn-kanade-images\\cohn-kanade-images\n",
      "D:\\Uni\\Sem 2\\CV\\datasets\\Dataset 4 - cmu\\extended-cohn-kanade-images\\cohn-kanade-images\n",
      "D:\\Uni\\Sem 2\\CV\\datasets\\Dataset 4 - cmu\\extended-cohn-kanade-images\\cohn-kanade-images\n",
      "D:\\Uni\\Sem 2\\CV\\datasets\\Dataset 4 - cmu\\extended-cohn-kanade-images\\cohn-kanade-images\n",
      "D:\\Uni\\Sem 2\\CV\\datasets\\Dataset 4 - cmu\\extended-cohn-kanade-images\\cohn-kanade-images\n",
      "D:\\Uni\\Sem 2\\CV\\datasets\\Dataset 4 - cmu\\extended-cohn-kanade-images\\cohn-kanade-images\n",
      "D:\\Uni\\Sem 2\\CV\\datasets\\Dataset 4 - cmu\\extended-cohn-kanade-images\\cohn-kanade-images\n",
      "D:\\Uni\\Sem 2\\CV\\datasets\\Dataset 4 - cmu\\extended-cohn-kanade-images\\cohn-kanade-images\n",
      "D:\\Uni\\Sem 2\\CV\\datasets\\Dataset 4 - cmu\\extended-cohn-kanade-images\\cohn-kanade-images\n",
      "D:\\Uni\\Sem 2\\CV\\datasets\\Dataset 4 - cmu\\extended-cohn-kanade-images\\cohn-kanade-images\n",
      "D:\\Uni\\Sem 2\\CV\\datasets\\Dataset 4 - cmu\\extended-cohn-kanade-images\\cohn-kanade-images\n",
      "D:\\Uni\\Sem 2\\CV\\datasets\\Dataset 4 - cmu\\extended-cohn-kanade-images\\cohn-kanade-images\n",
      "D:\\Uni\\Sem 2\\CV\\datasets\\Dataset 4 - cmu\\extended-cohn-kanade-images\\cohn-kanade-images\n",
      "D:\\Uni\\Sem 2\\CV\\datasets\\Dataset 4 - cmu\\extended-cohn-kanade-images\\cohn-kanade-images\n",
      "D:\\Uni\\Sem 2\\CV\\datasets\\Dataset 4 - cmu\\extended-cohn-kanade-images\\cohn-kanade-images\n",
      "D:\\Uni\\Sem 2\\CV\\datasets\\Dataset 4 - cmu\\extended-cohn-kanade-images\\cohn-kanade-images\n",
      "D:\\Uni\\Sem 2\\CV\\datasets\\Dataset 4 - cmu\\extended-cohn-kanade-images\\cohn-kanade-images\n",
      "D:\\Uni\\Sem 2\\CV\\datasets\\Dataset 4 - cmu\\extended-cohn-kanade-images\\cohn-kanade-images\n",
      "D:\\Uni\\Sem 2\\CV\\datasets\\Dataset 4 - cmu\\extended-cohn-kanade-images\\cohn-kanade-images\n",
      "D:\\Uni\\Sem 2\\CV\\datasets\\Dataset 4 - cmu\\extended-cohn-kanade-images\\cohn-kanade-images\n",
      "D:\\Uni\\Sem 2\\CV\\datasets\\Dataset 4 - cmu\\extended-cohn-kanade-images\\cohn-kanade-images\n",
      "D:\\Uni\\Sem 2\\CV\\datasets\\Dataset 4 - cmu\\extended-cohn-kanade-images\\cohn-kanade-images\n",
      "D:\\Uni\\Sem 2\\CV\\datasets\\Dataset 4 - cmu\\extended-cohn-kanade-images\\cohn-kanade-images\n",
      "D:\\Uni\\Sem 2\\CV\\datasets\\Dataset 4 - cmu\\extended-cohn-kanade-images\\cohn-kanade-images\n",
      "D:\\Uni\\Sem 2\\CV\\datasets\\Dataset 4 - cmu\\extended-cohn-kanade-images\\cohn-kanade-images\n",
      "D:\\Uni\\Sem 2\\CV\\datasets\\Dataset 4 - cmu\\extended-cohn-kanade-images\\cohn-kanade-images\n",
      "D:\\Uni\\Sem 2\\CV\\datasets\\Dataset 4 - cmu\\extended-cohn-kanade-images\\cohn-kanade-images\n",
      "D:\\Uni\\Sem 2\\CV\\datasets\\Dataset 4 - cmu\\extended-cohn-kanade-images\\cohn-kanade-images\n"
     ]
    },
    {
     "name": "stdout",
     "output_type": "stream",
     "text": [
      "D:\\Uni\\Sem 2\\CV\\datasets\\Dataset 4 - cmu\\extended-cohn-kanade-images\\cohn-kanade-images\n",
      "D:\\Uni\\Sem 2\\CV\\datasets\\Dataset 4 - cmu\\extended-cohn-kanade-images\\cohn-kanade-images\n",
      "D:\\Uni\\Sem 2\\CV\\datasets\\Dataset 4 - cmu\\extended-cohn-kanade-images\\cohn-kanade-images\n",
      "D:\\Uni\\Sem 2\\CV\\datasets\\Dataset 4 - cmu\\extended-cohn-kanade-images\\cohn-kanade-images\n",
      "D:\\Uni\\Sem 2\\CV\\datasets\\Dataset 4 - cmu\\extended-cohn-kanade-images\\cohn-kanade-images\n",
      "D:\\Uni\\Sem 2\\CV\\datasets\\Dataset 4 - cmu\\extended-cohn-kanade-images\\cohn-kanade-images\n",
      "D:\\Uni\\Sem 2\\CV\\datasets\\Dataset 4 - cmu\\extended-cohn-kanade-images\\cohn-kanade-images\n",
      "D:\\Uni\\Sem 2\\CV\\datasets\\Dataset 4 - cmu\\extended-cohn-kanade-images\\cohn-kanade-images\n",
      "D:\\Uni\\Sem 2\\CV\\datasets\\Dataset 4 - cmu\\extended-cohn-kanade-images\\cohn-kanade-images\n",
      "D:\\Uni\\Sem 2\\CV\\datasets\\Dataset 4 - cmu\\extended-cohn-kanade-images\\cohn-kanade-images\n",
      "D:\\Uni\\Sem 2\\CV\\datasets\\Dataset 4 - cmu\\extended-cohn-kanade-images\\cohn-kanade-images\n",
      "D:\\Uni\\Sem 2\\CV\\datasets\\Dataset 4 - cmu\\extended-cohn-kanade-images\\cohn-kanade-images\n",
      "D:\\Uni\\Sem 2\\CV\\datasets\\Dataset 4 - cmu\\extended-cohn-kanade-images\\cohn-kanade-images\n",
      "D:\\Uni\\Sem 2\\CV\\datasets\\Dataset 4 - cmu\\extended-cohn-kanade-images\\cohn-kanade-images\n",
      "D:\\Uni\\Sem 2\\CV\\datasets\\Dataset 4 - cmu\\extended-cohn-kanade-images\\cohn-kanade-images\n",
      "D:\\Uni\\Sem 2\\CV\\datasets\\Dataset 4 - cmu\\extended-cohn-kanade-images\\cohn-kanade-images\n",
      "D:\\Uni\\Sem 2\\CV\\datasets\\Dataset 4 - cmu\\extended-cohn-kanade-images\\cohn-kanade-images\n",
      "D:\\Uni\\Sem 2\\CV\\datasets\\Dataset 4 - cmu\\extended-cohn-kanade-images\\cohn-kanade-images\n",
      "D:\\Uni\\Sem 2\\CV\\datasets\\Dataset 4 - cmu\\extended-cohn-kanade-images\\cohn-kanade-images\n",
      "D:\\Uni\\Sem 2\\CV\\datasets\\Dataset 4 - cmu\\extended-cohn-kanade-images\\cohn-kanade-images\n",
      "D:\\Uni\\Sem 2\\CV\\datasets\\Dataset 4 - cmu\\extended-cohn-kanade-images\\cohn-kanade-images\n",
      "D:\\Uni\\Sem 2\\CV\\datasets\\Dataset 4 - cmu\\extended-cohn-kanade-images\\cohn-kanade-images\n",
      "D:\\Uni\\Sem 2\\CV\\datasets\\Dataset 4 - cmu\\extended-cohn-kanade-images\\cohn-kanade-images\n",
      "D:\\Uni\\Sem 2\\CV\\datasets\\Dataset 4 - cmu\\extended-cohn-kanade-images\\cohn-kanade-images\n",
      "D:\\Uni\\Sem 2\\CV\\datasets\\Dataset 4 - cmu\\extended-cohn-kanade-images\\cohn-kanade-images\n",
      "D:\\Uni\\Sem 2\\CV\\datasets\\Dataset 4 - cmu\\extended-cohn-kanade-images\\cohn-kanade-images\n",
      "D:\\Uni\\Sem 2\\CV\\datasets\\Dataset 4 - cmu\\extended-cohn-kanade-images\\cohn-kanade-images\n",
      "D:\\Uni\\Sem 2\\CV\\datasets\\Dataset 4 - cmu\\extended-cohn-kanade-images\\cohn-kanade-images\n",
      "D:\\Uni\\Sem 2\\CV\\datasets\\Dataset 4 - cmu\\extended-cohn-kanade-images\\cohn-kanade-images\n",
      "D:\\Uni\\Sem 2\\CV\\datasets\\Dataset 4 - cmu\\extended-cohn-kanade-images\\cohn-kanade-images\n",
      "D:\\Uni\\Sem 2\\CV\\datasets\\Dataset 4 - cmu\\extended-cohn-kanade-images\\cohn-kanade-images\n",
      "D:\\Uni\\Sem 2\\CV\\datasets\\Dataset 4 - cmu\\extended-cohn-kanade-images\\cohn-kanade-images\n",
      "D:\\Uni\\Sem 2\\CV\\datasets\\Dataset 4 - cmu\\extended-cohn-kanade-images\\cohn-kanade-images\n",
      "D:\\Uni\\Sem 2\\CV\\datasets\\Dataset 4 - cmu\\extended-cohn-kanade-images\\cohn-kanade-images\n",
      "D:\\Uni\\Sem 2\\CV\\datasets\\Dataset 4 - cmu\\extended-cohn-kanade-images\\cohn-kanade-images\n",
      "D:\\Uni\\Sem 2\\CV\\datasets\\Dataset 4 - cmu\\extended-cohn-kanade-images\\cohn-kanade-images\n",
      "D:\\Uni\\Sem 2\\CV\\datasets\\Dataset 4 - cmu\\extended-cohn-kanade-images\\cohn-kanade-images\n",
      "D:\\Uni\\Sem 2\\CV\\datasets\\Dataset 4 - cmu\\extended-cohn-kanade-images\\cohn-kanade-images\n",
      "D:\\Uni\\Sem 2\\CV\\datasets\\Dataset 4 - cmu\\extended-cohn-kanade-images\\cohn-kanade-images\n",
      "D:\\Uni\\Sem 2\\CV\\datasets\\Dataset 4 - cmu\\extended-cohn-kanade-images\\cohn-kanade-images\n",
      "D:\\Uni\\Sem 2\\CV\\datasets\\Dataset 4 - cmu\\extended-cohn-kanade-images\\cohn-kanade-images\n",
      "D:\\Uni\\Sem 2\\CV\\datasets\\Dataset 4 - cmu\\extended-cohn-kanade-images\\cohn-kanade-images\n",
      "D:\\Uni\\Sem 2\\CV\\datasets\\Dataset 4 - cmu\\extended-cohn-kanade-images\\cohn-kanade-images\n",
      "D:\\Uni\\Sem 2\\CV\\datasets\\Dataset 4 - cmu\\extended-cohn-kanade-images\\cohn-kanade-images\n",
      "D:\\Uni\\Sem 2\\CV\\datasets\\Dataset 4 - cmu\\extended-cohn-kanade-images\\cohn-kanade-images\n",
      "D:\\Uni\\Sem 2\\CV\\datasets\\Dataset 4 - cmu\\extended-cohn-kanade-images\\cohn-kanade-images\n",
      "D:\\Uni\\Sem 2\\CV\\datasets\\Dataset 4 - cmu\\extended-cohn-kanade-images\\cohn-kanade-images\n",
      "D:\\Uni\\Sem 2\\CV\\datasets\\Dataset 4 - cmu\\extended-cohn-kanade-images\\cohn-kanade-images\n",
      "D:\\Uni\\Sem 2\\CV\\datasets\\Dataset 4 - cmu\\extended-cohn-kanade-images\\cohn-kanade-images\n",
      "D:\\Uni\\Sem 2\\CV\\datasets\\Dataset 4 - cmu\\extended-cohn-kanade-images\\cohn-kanade-images\n",
      "D:\\Uni\\Sem 2\\CV\\datasets\\Dataset 4 - cmu\\extended-cohn-kanade-images\\cohn-kanade-images\n",
      "D:\\Uni\\Sem 2\\CV\\datasets\\Dataset 4 - cmu\\extended-cohn-kanade-images\\cohn-kanade-images\n",
      "D:\\Uni\\Sem 2\\CV\\datasets\\Dataset 4 - cmu\\extended-cohn-kanade-images\\cohn-kanade-images\n",
      "D:\\Uni\\Sem 2\\CV\\datasets\\Dataset 4 - cmu\\extended-cohn-kanade-images\\cohn-kanade-images\n",
      "D:\\Uni\\Sem 2\\CV\\datasets\\Dataset 4 - cmu\\extended-cohn-kanade-images\\cohn-kanade-images\n",
      "D:\\Uni\\Sem 2\\CV\\datasets\\Dataset 4 - cmu\\extended-cohn-kanade-images\\cohn-kanade-images\n",
      "D:\\Uni\\Sem 2\\CV\\datasets\\Dataset 4 - cmu\\extended-cohn-kanade-images\\cohn-kanade-images\n",
      "D:\\Uni\\Sem 2\\CV\\datasets\\Dataset 4 - cmu\\extended-cohn-kanade-images\\cohn-kanade-images\n",
      "D:\\Uni\\Sem 2\\CV\\datasets\\Dataset 4 - cmu\\extended-cohn-kanade-images\\cohn-kanade-images\n",
      "D:\\Uni\\Sem 2\\CV\\datasets\\Dataset 4 - cmu\\extended-cohn-kanade-images\\cohn-kanade-images\n",
      "D:\\Uni\\Sem 2\\CV\\datasets\\Dataset 4 - cmu\\extended-cohn-kanade-images\\cohn-kanade-images\n",
      "D:\\Uni\\Sem 2\\CV\\datasets\\Dataset 4 - cmu\\extended-cohn-kanade-images\\cohn-kanade-images\n",
      "D:\\Uni\\Sem 2\\CV\\datasets\\Dataset 4 - cmu\\extended-cohn-kanade-images\\cohn-kanade-images\n",
      "D:\\Uni\\Sem 2\\CV\\datasets\\Dataset 4 - cmu\\extended-cohn-kanade-images\\cohn-kanade-images\n",
      "D:\\Uni\\Sem 2\\CV\\datasets\\Dataset 4 - cmu\\extended-cohn-kanade-images\\cohn-kanade-images\n",
      "D:\\Uni\\Sem 2\\CV\\datasets\\Dataset 4 - cmu\\extended-cohn-kanade-images\\cohn-kanade-images\n",
      "D:\\Uni\\Sem 2\\CV\\datasets\\Dataset 4 - cmu\\extended-cohn-kanade-images\\cohn-kanade-images\n",
      "D:\\Uni\\Sem 2\\CV\\datasets\\Dataset 4 - cmu\\extended-cohn-kanade-images\\cohn-kanade-images\n",
      "D:\\Uni\\Sem 2\\CV\\datasets\\Dataset 4 - cmu\\extended-cohn-kanade-images\\cohn-kanade-images\n",
      "D:\\Uni\\Sem 2\\CV\\datasets\\Dataset 4 - cmu\\extended-cohn-kanade-images\\cohn-kanade-images\n",
      "D:\\Uni\\Sem 2\\CV\\datasets\\Dataset 4 - cmu\\extended-cohn-kanade-images\\cohn-kanade-images\n",
      "D:\\Uni\\Sem 2\\CV\\datasets\\Dataset 4 - cmu\\extended-cohn-kanade-images\\cohn-kanade-images\n",
      "D:\\Uni\\Sem 2\\CV\\datasets\\Dataset 4 - cmu\\extended-cohn-kanade-images\\cohn-kanade-images\n",
      "D:\\Uni\\Sem 2\\CV\\datasets\\Dataset 4 - cmu\\extended-cohn-kanade-images\\cohn-kanade-images\n",
      "D:\\Uni\\Sem 2\\CV\\datasets\\Dataset 4 - cmu\\extended-cohn-kanade-images\\cohn-kanade-images\n",
      "D:\\Uni\\Sem 2\\CV\\datasets\\Dataset 4 - cmu\\extended-cohn-kanade-images\\cohn-kanade-images\n",
      "D:\\Uni\\Sem 2\\CV\\datasets\\Dataset 4 - cmu\\extended-cohn-kanade-images\\cohn-kanade-images\n",
      "D:\\Uni\\Sem 2\\CV\\datasets\\Dataset 4 - cmu\\extended-cohn-kanade-images\\cohn-kanade-images\n",
      "D:\\Uni\\Sem 2\\CV\\datasets\\Dataset 4 - cmu\\extended-cohn-kanade-images\\cohn-kanade-images\n",
      "D:\\Uni\\Sem 2\\CV\\datasets\\Dataset 4 - cmu\\extended-cohn-kanade-images\\cohn-kanade-images\n",
      "D:\\Uni\\Sem 2\\CV\\datasets\\Dataset 4 - cmu\\extended-cohn-kanade-images\\cohn-kanade-images\n",
      "D:\\Uni\\Sem 2\\CV\\datasets\\Dataset 4 - cmu\\extended-cohn-kanade-images\\cohn-kanade-images\n",
      "D:\\Uni\\Sem 2\\CV\\datasets\\Dataset 4 - cmu\\extended-cohn-kanade-images\\cohn-kanade-images\n",
      "D:\\Uni\\Sem 2\\CV\\datasets\\Dataset 4 - cmu\\extended-cohn-kanade-images\\cohn-kanade-images\n",
      "D:\\Uni\\Sem 2\\CV\\datasets\\Dataset 4 - cmu\\extended-cohn-kanade-images\\cohn-kanade-images\n",
      "D:\\Uni\\Sem 2\\CV\\datasets\\Dataset 4 - cmu\\extended-cohn-kanade-images\\cohn-kanade-images\n",
      "D:\\Uni\\Sem 2\\CV\\datasets\\Dataset 4 - cmu\\extended-cohn-kanade-images\\cohn-kanade-images\n",
      "D:\\Uni\\Sem 2\\CV\\datasets\\Dataset 4 - cmu\\extended-cohn-kanade-images\\cohn-kanade-images\n",
      "D:\\Uni\\Sem 2\\CV\\datasets\\Dataset 4 - cmu\\extended-cohn-kanade-images\\cohn-kanade-images\n",
      "D:\\Uni\\Sem 2\\CV\\datasets\\Dataset 4 - cmu\\extended-cohn-kanade-images\\cohn-kanade-images\n",
      "D:\\Uni\\Sem 2\\CV\\datasets\\Dataset 4 - cmu\\extended-cohn-kanade-images\\cohn-kanade-images\n",
      "D:\\Uni\\Sem 2\\CV\\datasets\\Dataset 4 - cmu\\extended-cohn-kanade-images\\cohn-kanade-images\n",
      "D:\\Uni\\Sem 2\\CV\\datasets\\Dataset 4 - cmu\\extended-cohn-kanade-images\\cohn-kanade-images\n",
      "D:\\Uni\\Sem 2\\CV\\datasets\\Dataset 4 - cmu\\extended-cohn-kanade-images\\cohn-kanade-images\n",
      "D:\\Uni\\Sem 2\\CV\\datasets\\Dataset 4 - cmu\\extended-cohn-kanade-images\\cohn-kanade-images\n",
      "D:\\Uni\\Sem 2\\CV\\datasets\\Dataset 4 - cmu\\extended-cohn-kanade-images\\cohn-kanade-images\n"
     ]
    },
    {
     "name": "stdout",
     "output_type": "stream",
     "text": [
      "D:\\Uni\\Sem 2\\CV\\datasets\\Dataset 4 - cmu\\extended-cohn-kanade-images\\cohn-kanade-images\n",
      "D:\\Uni\\Sem 2\\CV\\datasets\\Dataset 4 - cmu\\extended-cohn-kanade-images\\cohn-kanade-images\n",
      "D:\\Uni\\Sem 2\\CV\\datasets\\Dataset 4 - cmu\\extended-cohn-kanade-images\\cohn-kanade-images\n",
      "D:\\Uni\\Sem 2\\CV\\datasets\\Dataset 4 - cmu\\extended-cohn-kanade-images\\cohn-kanade-images\n",
      "D:\\Uni\\Sem 2\\CV\\datasets\\Dataset 4 - cmu\\extended-cohn-kanade-images\\cohn-kanade-images\n",
      "D:\\Uni\\Sem 2\\CV\\datasets\\Dataset 4 - cmu\\extended-cohn-kanade-images\\cohn-kanade-images\n",
      "D:\\Uni\\Sem 2\\CV\\datasets\\Dataset 4 - cmu\\extended-cohn-kanade-images\\cohn-kanade-images\n",
      "D:\\Uni\\Sem 2\\CV\\datasets\\Dataset 4 - cmu\\extended-cohn-kanade-images\\cohn-kanade-images\n",
      "D:\\Uni\\Sem 2\\CV\\datasets\\Dataset 4 - cmu\\extended-cohn-kanade-images\\cohn-kanade-images\n",
      "D:\\Uni\\Sem 2\\CV\\datasets\\Dataset 4 - cmu\\extended-cohn-kanade-images\\cohn-kanade-images\n",
      "D:\\Uni\\Sem 2\\CV\\datasets\\Dataset 4 - cmu\\extended-cohn-kanade-images\\cohn-kanade-images\n",
      "D:\\Uni\\Sem 2\\CV\\datasets\\Dataset 4 - cmu\\extended-cohn-kanade-images\\cohn-kanade-images\n",
      "D:\\Uni\\Sem 2\\CV\\datasets\\Dataset 4 - cmu\\extended-cohn-kanade-images\\cohn-kanade-images\n",
      "D:\\Uni\\Sem 2\\CV\\datasets\\Dataset 4 - cmu\\extended-cohn-kanade-images\\cohn-kanade-images\n",
      "D:\\Uni\\Sem 2\\CV\\datasets\\Dataset 4 - cmu\\extended-cohn-kanade-images\\cohn-kanade-images\n",
      "D:\\Uni\\Sem 2\\CV\\datasets\\Dataset 4 - cmu\\extended-cohn-kanade-images\\cohn-kanade-images\n",
      "D:\\Uni\\Sem 2\\CV\\datasets\\Dataset 4 - cmu\\extended-cohn-kanade-images\\cohn-kanade-images\n",
      "D:\\Uni\\Sem 2\\CV\\datasets\\Dataset 4 - cmu\\extended-cohn-kanade-images\\cohn-kanade-images\n",
      "D:\\Uni\\Sem 2\\CV\\datasets\\Dataset 4 - cmu\\extended-cohn-kanade-images\\cohn-kanade-images\n",
      "D:\\Uni\\Sem 2\\CV\\datasets\\Dataset 4 - cmu\\extended-cohn-kanade-images\\cohn-kanade-images\n",
      "D:\\Uni\\Sem 2\\CV\\datasets\\Dataset 4 - cmu\\extended-cohn-kanade-images\\cohn-kanade-images\n",
      "D:\\Uni\\Sem 2\\CV\\datasets\\Dataset 4 - cmu\\extended-cohn-kanade-images\\cohn-kanade-images\n",
      "D:\\Uni\\Sem 2\\CV\\datasets\\Dataset 4 - cmu\\extended-cohn-kanade-images\\cohn-kanade-images\n",
      "D:\\Uni\\Sem 2\\CV\\datasets\\Dataset 4 - cmu\\extended-cohn-kanade-images\\cohn-kanade-images\n",
      "D:\\Uni\\Sem 2\\CV\\datasets\\Dataset 4 - cmu\\extended-cohn-kanade-images\\cohn-kanade-images\n",
      "D:\\Uni\\Sem 2\\CV\\datasets\\Dataset 4 - cmu\\extended-cohn-kanade-images\\cohn-kanade-images\n",
      "D:\\Uni\\Sem 2\\CV\\datasets\\Dataset 4 - cmu\\extended-cohn-kanade-images\\cohn-kanade-images\n",
      "D:\\Uni\\Sem 2\\CV\\datasets\\Dataset 4 - cmu\\extended-cohn-kanade-images\\cohn-kanade-images\n",
      "D:\\Uni\\Sem 2\\CV\\datasets\\Dataset 4 - cmu\\extended-cohn-kanade-images\\cohn-kanade-images\n",
      "D:\\Uni\\Sem 2\\CV\\datasets\\Dataset 4 - cmu\\extended-cohn-kanade-images\\cohn-kanade-images\n",
      "D:\\Uni\\Sem 2\\CV\\datasets\\Dataset 4 - cmu\\extended-cohn-kanade-images\\cohn-kanade-images\n",
      "D:\\Uni\\Sem 2\\CV\\datasets\\Dataset 4 - cmu\\extended-cohn-kanade-images\\cohn-kanade-images\n",
      "D:\\Uni\\Sem 2\\CV\\datasets\\Dataset 4 - cmu\\extended-cohn-kanade-images\\cohn-kanade-images\n",
      "D:\\Uni\\Sem 2\\CV\\datasets\\Dataset 4 - cmu\\extended-cohn-kanade-images\\cohn-kanade-images\n",
      "D:\\Uni\\Sem 2\\CV\\datasets\\Dataset 4 - cmu\\extended-cohn-kanade-images\\cohn-kanade-images\n",
      "D:\\Uni\\Sem 2\\CV\\datasets\\Dataset 4 - cmu\\extended-cohn-kanade-images\\cohn-kanade-images\n",
      "D:\\Uni\\Sem 2\\CV\\datasets\\Dataset 4 - cmu\\extended-cohn-kanade-images\\cohn-kanade-images\n",
      "D:\\Uni\\Sem 2\\CV\\datasets\\Dataset 4 - cmu\\extended-cohn-kanade-images\\cohn-kanade-images\n",
      "D:\\Uni\\Sem 2\\CV\\datasets\\Dataset 4 - cmu\\extended-cohn-kanade-images\\cohn-kanade-images\n",
      "D:\\Uni\\Sem 2\\CV\\datasets\\Dataset 4 - cmu\\extended-cohn-kanade-images\\cohn-kanade-images\n",
      "D:\\Uni\\Sem 2\\CV\\datasets\\Dataset 4 - cmu\\extended-cohn-kanade-images\\cohn-kanade-images\n",
      "D:\\Uni\\Sem 2\\CV\\datasets\\Dataset 4 - cmu\\extended-cohn-kanade-images\\cohn-kanade-images\n",
      "D:\\Uni\\Sem 2\\CV\\datasets\\Dataset 4 - cmu\\extended-cohn-kanade-images\\cohn-kanade-images\n",
      "D:\\Uni\\Sem 2\\CV\\datasets\\Dataset 4 - cmu\\extended-cohn-kanade-images\\cohn-kanade-images\n",
      "D:\\Uni\\Sem 2\\CV\\datasets\\Dataset 4 - cmu\\extended-cohn-kanade-images\\cohn-kanade-images\n",
      "D:\\Uni\\Sem 2\\CV\\datasets\\Dataset 4 - cmu\\extended-cohn-kanade-images\\cohn-kanade-images\n",
      "D:\\Uni\\Sem 2\\CV\\datasets\\Dataset 4 - cmu\\extended-cohn-kanade-images\\cohn-kanade-images\n",
      "D:\\Uni\\Sem 2\\CV\\datasets\\Dataset 4 - cmu\\extended-cohn-kanade-images\\cohn-kanade-images\n",
      "D:\\Uni\\Sem 2\\CV\\datasets\\Dataset 4 - cmu\\extended-cohn-kanade-images\\cohn-kanade-images\n",
      "D:\\Uni\\Sem 2\\CV\\datasets\\Dataset 4 - cmu\\extended-cohn-kanade-images\\cohn-kanade-images\n",
      "D:\\Uni\\Sem 2\\CV\\datasets\\Dataset 4 - cmu\\extended-cohn-kanade-images\\cohn-kanade-images\n",
      "D:\\Uni\\Sem 2\\CV\\datasets\\Dataset 4 - cmu\\extended-cohn-kanade-images\\cohn-kanade-images\n",
      "D:\\Uni\\Sem 2\\CV\\datasets\\Dataset 4 - cmu\\extended-cohn-kanade-images\\cohn-kanade-images\n",
      "D:\\Uni\\Sem 2\\CV\\datasets\\Dataset 4 - cmu\\extended-cohn-kanade-images\\cohn-kanade-images\n",
      "D:\\Uni\\Sem 2\\CV\\datasets\\Dataset 4 - cmu\\extended-cohn-kanade-images\\cohn-kanade-images\n",
      "D:\\Uni\\Sem 2\\CV\\datasets\\Dataset 4 - cmu\\extended-cohn-kanade-images\\cohn-kanade-images\n",
      "D:\\Uni\\Sem 2\\CV\\datasets\\Dataset 4 - cmu\\extended-cohn-kanade-images\\cohn-kanade-images\n",
      "D:\\Uni\\Sem 2\\CV\\datasets\\Dataset 4 - cmu\\extended-cohn-kanade-images\\cohn-kanade-images\n",
      "D:\\Uni\\Sem 2\\CV\\datasets\\Dataset 4 - cmu\\extended-cohn-kanade-images\\cohn-kanade-images\n",
      "D:\\Uni\\Sem 2\\CV\\datasets\\Dataset 4 - cmu\\extended-cohn-kanade-images\\cohn-kanade-images\n",
      "D:\\Uni\\Sem 2\\CV\\datasets\\Dataset 4 - cmu\\extended-cohn-kanade-images\\cohn-kanade-images\n",
      "D:\\Uni\\Sem 2\\CV\\datasets\\Dataset 4 - cmu\\extended-cohn-kanade-images\\cohn-kanade-images\n",
      "D:\\Uni\\Sem 2\\CV\\datasets\\Dataset 4 - cmu\\extended-cohn-kanade-images\\cohn-kanade-images\n",
      "D:\\Uni\\Sem 2\\CV\\datasets\\Dataset 4 - cmu\\extended-cohn-kanade-images\\cohn-kanade-images\n",
      "D:\\Uni\\Sem 2\\CV\\datasets\\Dataset 4 - cmu\\extended-cohn-kanade-images\\cohn-kanade-images\n",
      "D:\\Uni\\Sem 2\\CV\\datasets\\Dataset 4 - cmu\\extended-cohn-kanade-images\\cohn-kanade-images\n",
      "D:\\Uni\\Sem 2\\CV\\datasets\\Dataset 4 - cmu\\extended-cohn-kanade-images\\cohn-kanade-images\n",
      "D:\\Uni\\Sem 2\\CV\\datasets\\Dataset 4 - cmu\\extended-cohn-kanade-images\\cohn-kanade-images\n",
      "D:\\Uni\\Sem 2\\CV\\datasets\\Dataset 4 - cmu\\extended-cohn-kanade-images\\cohn-kanade-images\n",
      "D:\\Uni\\Sem 2\\CV\\datasets\\Dataset 4 - cmu\\extended-cohn-kanade-images\\cohn-kanade-images\n",
      "D:\\Uni\\Sem 2\\CV\\datasets\\Dataset 4 - cmu\\extended-cohn-kanade-images\\cohn-kanade-images\n",
      "D:\\Uni\\Sem 2\\CV\\datasets\\Dataset 4 - cmu\\extended-cohn-kanade-images\\cohn-kanade-images\n",
      "D:\\Uni\\Sem 2\\CV\\datasets\\Dataset 4 - cmu\\extended-cohn-kanade-images\\cohn-kanade-images\n",
      "D:\\Uni\\Sem 2\\CV\\datasets\\Dataset 4 - cmu\\extended-cohn-kanade-images\\cohn-kanade-images\n",
      "D:\\Uni\\Sem 2\\CV\\datasets\\Dataset 4 - cmu\\extended-cohn-kanade-images\\cohn-kanade-images\n",
      "D:\\Uni\\Sem 2\\CV\\datasets\\Dataset 4 - cmu\\extended-cohn-kanade-images\\cohn-kanade-images\n",
      "D:\\Uni\\Sem 2\\CV\\datasets\\Dataset 4 - cmu\\extended-cohn-kanade-images\\cohn-kanade-images\n",
      "D:\\Uni\\Sem 2\\CV\\datasets\\Dataset 4 - cmu\\extended-cohn-kanade-images\\cohn-kanade-images\n",
      "D:\\Uni\\Sem 2\\CV\\datasets\\Dataset 4 - cmu\\extended-cohn-kanade-images\\cohn-kanade-images\n",
      "D:\\Uni\\Sem 2\\CV\\datasets\\Dataset 4 - cmu\\extended-cohn-kanade-images\\cohn-kanade-images\n",
      "D:\\Uni\\Sem 2\\CV\\datasets\\Dataset 4 - cmu\\extended-cohn-kanade-images\\cohn-kanade-images\n",
      "D:\\Uni\\Sem 2\\CV\\datasets\\Dataset 4 - cmu\\extended-cohn-kanade-images\\cohn-kanade-images\n",
      "D:\\Uni\\Sem 2\\CV\\datasets\\Dataset 4 - cmu\\extended-cohn-kanade-images\\cohn-kanade-images\n",
      "D:\\Uni\\Sem 2\\CV\\datasets\\Dataset 4 - cmu\\extended-cohn-kanade-images\\cohn-kanade-images\n",
      "D:\\Uni\\Sem 2\\CV\\datasets\\Dataset 4 - cmu\\extended-cohn-kanade-images\\cohn-kanade-images\n",
      "D:\\Uni\\Sem 2\\CV\\datasets\\Dataset 4 - cmu\\extended-cohn-kanade-images\\cohn-kanade-images\n",
      "D:\\Uni\\Sem 2\\CV\\datasets\\Dataset 4 - cmu\\extended-cohn-kanade-images\\cohn-kanade-images\n",
      "D:\\Uni\\Sem 2\\CV\\datasets\\Dataset 4 - cmu\\extended-cohn-kanade-images\\cohn-kanade-images\n",
      "D:\\Uni\\Sem 2\\CV\\datasets\\Dataset 4 - cmu\\extended-cohn-kanade-images\\cohn-kanade-images\n",
      "D:\\Uni\\Sem 2\\CV\\datasets\\Dataset 4 - cmu\\extended-cohn-kanade-images\\cohn-kanade-images\n",
      "D:\\Uni\\Sem 2\\CV\\datasets\\Dataset 4 - cmu\\extended-cohn-kanade-images\\cohn-kanade-images\n",
      "D:\\Uni\\Sem 2\\CV\\datasets\\Dataset 4 - cmu\\extended-cohn-kanade-images\\cohn-kanade-images\n",
      "D:\\Uni\\Sem 2\\CV\\datasets\\Dataset 4 - cmu\\extended-cohn-kanade-images\\cohn-kanade-images\n",
      "D:\\Uni\\Sem 2\\CV\\datasets\\Dataset 4 - cmu\\extended-cohn-kanade-images\\cohn-kanade-images\n",
      "D:\\Uni\\Sem 2\\CV\\datasets\\Dataset 4 - cmu\\extended-cohn-kanade-images\\cohn-kanade-images\n",
      "D:\\Uni\\Sem 2\\CV\\datasets\\Dataset 4 - cmu\\extended-cohn-kanade-images\\cohn-kanade-images\n"
     ]
    },
    {
     "name": "stdout",
     "output_type": "stream",
     "text": [
      "D:\\Uni\\Sem 2\\CV\\datasets\\Dataset 4 - cmu\\extended-cohn-kanade-images\\cohn-kanade-images\n",
      "D:\\Uni\\Sem 2\\CV\\datasets\\Dataset 4 - cmu\\extended-cohn-kanade-images\\cohn-kanade-images\n",
      "D:\\Uni\\Sem 2\\CV\\datasets\\Dataset 4 - cmu\\extended-cohn-kanade-images\\cohn-kanade-images\n",
      "D:\\Uni\\Sem 2\\CV\\datasets\\Dataset 4 - cmu\\extended-cohn-kanade-images\\cohn-kanade-images\n",
      "D:\\Uni\\Sem 2\\CV\\datasets\\Dataset 4 - cmu\\extended-cohn-kanade-images\\cohn-kanade-images\n",
      "D:\\Uni\\Sem 2\\CV\\datasets\\Dataset 4 - cmu\\extended-cohn-kanade-images\\cohn-kanade-images\n",
      "D:\\Uni\\Sem 2\\CV\\datasets\\Dataset 4 - cmu\\extended-cohn-kanade-images\\cohn-kanade-images\n",
      "D:\\Uni\\Sem 2\\CV\\datasets\\Dataset 4 - cmu\\extended-cohn-kanade-images\\cohn-kanade-images\n",
      "D:\\Uni\\Sem 2\\CV\\datasets\\Dataset 4 - cmu\\extended-cohn-kanade-images\\cohn-kanade-images\n",
      "D:\\Uni\\Sem 2\\CV\\datasets\\Dataset 4 - cmu\\extended-cohn-kanade-images\\cohn-kanade-images\n",
      "D:\\Uni\\Sem 2\\CV\\datasets\\Dataset 4 - cmu\\extended-cohn-kanade-images\\cohn-kanade-images\n",
      "D:\\Uni\\Sem 2\\CV\\datasets\\Dataset 4 - cmu\\extended-cohn-kanade-images\\cohn-kanade-images\n",
      "D:\\Uni\\Sem 2\\CV\\datasets\\Dataset 4 - cmu\\extended-cohn-kanade-images\\cohn-kanade-images\n",
      "D:\\Uni\\Sem 2\\CV\\datasets\\Dataset 4 - cmu\\extended-cohn-kanade-images\\cohn-kanade-images\n",
      "D:\\Uni\\Sem 2\\CV\\datasets\\Dataset 4 - cmu\\extended-cohn-kanade-images\\cohn-kanade-images\n",
      "D:\\Uni\\Sem 2\\CV\\datasets\\Dataset 4 - cmu\\extended-cohn-kanade-images\\cohn-kanade-images\n",
      "D:\\Uni\\Sem 2\\CV\\datasets\\Dataset 4 - cmu\\extended-cohn-kanade-images\\cohn-kanade-images\n",
      "D:\\Uni\\Sem 2\\CV\\datasets\\Dataset 4 - cmu\\extended-cohn-kanade-images\\cohn-kanade-images\n",
      "D:\\Uni\\Sem 2\\CV\\datasets\\Dataset 4 - cmu\\extended-cohn-kanade-images\\cohn-kanade-images\n",
      "D:\\Uni\\Sem 2\\CV\\datasets\\Dataset 4 - cmu\\extended-cohn-kanade-images\\cohn-kanade-images\n",
      "D:\\Uni\\Sem 2\\CV\\datasets\\Dataset 4 - cmu\\extended-cohn-kanade-images\\cohn-kanade-images\n",
      "D:\\Uni\\Sem 2\\CV\\datasets\\Dataset 4 - cmu\\extended-cohn-kanade-images\\cohn-kanade-images\n",
      "D:\\Uni\\Sem 2\\CV\\datasets\\Dataset 4 - cmu\\extended-cohn-kanade-images\\cohn-kanade-images\n",
      "D:\\Uni\\Sem 2\\CV\\datasets\\Dataset 4 - cmu\\extended-cohn-kanade-images\\cohn-kanade-images\n",
      "D:\\Uni\\Sem 2\\CV\\datasets\\Dataset 4 - cmu\\extended-cohn-kanade-images\\cohn-kanade-images\n",
      "D:\\Uni\\Sem 2\\CV\\datasets\\Dataset 4 - cmu\\extended-cohn-kanade-images\\cohn-kanade-images\n",
      "D:\\Uni\\Sem 2\\CV\\datasets\\Dataset 4 - cmu\\extended-cohn-kanade-images\\cohn-kanade-images\n",
      "D:\\Uni\\Sem 2\\CV\\datasets\\Dataset 4 - cmu\\extended-cohn-kanade-images\\cohn-kanade-images\n",
      "D:\\Uni\\Sem 2\\CV\\datasets\\Dataset 4 - cmu\\extended-cohn-kanade-images\\cohn-kanade-images\n",
      "D:\\Uni\\Sem 2\\CV\\datasets\\Dataset 4 - cmu\\extended-cohn-kanade-images\\cohn-kanade-images\n",
      "D:\\Uni\\Sem 2\\CV\\datasets\\Dataset 4 - cmu\\extended-cohn-kanade-images\\cohn-kanade-images\n",
      "D:\\Uni\\Sem 2\\CV\\datasets\\Dataset 4 - cmu\\extended-cohn-kanade-images\\cohn-kanade-images\n",
      "D:\\Uni\\Sem 2\\CV\\datasets\\Dataset 4 - cmu\\extended-cohn-kanade-images\\cohn-kanade-images\n",
      "D:\\Uni\\Sem 2\\CV\\datasets\\Dataset 4 - cmu\\extended-cohn-kanade-images\\cohn-kanade-images\n",
      "D:\\Uni\\Sem 2\\CV\\datasets\\Dataset 4 - cmu\\extended-cohn-kanade-images\\cohn-kanade-images\n",
      "D:\\Uni\\Sem 2\\CV\\datasets\\Dataset 4 - cmu\\extended-cohn-kanade-images\\cohn-kanade-images\n",
      "D:\\Uni\\Sem 2\\CV\\datasets\\Dataset 4 - cmu\\extended-cohn-kanade-images\\cohn-kanade-images\n",
      "D:\\Uni\\Sem 2\\CV\\datasets\\Dataset 4 - cmu\\extended-cohn-kanade-images\\cohn-kanade-images\n",
      "D:\\Uni\\Sem 2\\CV\\datasets\\Dataset 4 - cmu\\extended-cohn-kanade-images\\cohn-kanade-images\n",
      "D:\\Uni\\Sem 2\\CV\\datasets\\Dataset 4 - cmu\\extended-cohn-kanade-images\\cohn-kanade-images\n",
      "327\n"
     ]
    }
   ],
   "source": [
    "getTrainData()"
   ]
  },
  {
   "cell_type": "markdown",
   "metadata": {},
   "source": [
    "## 2. Loading Processed Data"
   ]
  },
  {
   "cell_type": "code",
   "execution_count": 522,
   "metadata": {},
   "outputs": [],
   "source": [
    "# Load processed data\n",
    "feature = np.load(os.path.join(CONFIG_PATH_DATA,'features.npy'))\n",
    "labels = np.load(os.path.join(CONFIG_PATH_DATA,'labels.npy'))"
   ]
  },
  {
   "cell_type": "code",
   "execution_count": 523,
   "metadata": {
    "scrolled": true
   },
   "outputs": [
    {
     "data": {
      "text/plain": [
       "<matplotlib.image.AxesImage at 0x2b9acb31f28>"
      ]
     },
     "execution_count": 523,
     "metadata": {},
     "output_type": "execute_result"
    },
    {
     "data": {
      "image/png": "[encoded data removed]",
      "text/plain": [
       "<matplotlib.figure.Figure at 0x2b9d4962978>"
      ]
     },
     "metadata": {},
     "output_type": "display_data"
    }
   ],
   "source": [
    "feature[1].shape\n",
    "plt.imshow(feature[0])"
   ]
  },
  {
   "cell_type": "code",
   "execution_count": 538,
   "metadata": {},
   "outputs": [
    {
     "data": {
      "text/plain": [
       "array([ 0.,  0.,  0.,  1.,  0.,  0.,  0.,  0.])"
      ]
     },
     "execution_count": 538,
     "metadata": {},
     "output_type": "execute_result"
    }
   ],
   "source": [
    "labels[0]  # One Hot Encoding"
   ]
  },
  {
   "cell_type": "code",
   "execution_count": 540,
   "metadata": {},
   "outputs": [
    {
     "name": "stdout",
     "output_type": "stream",
     "text": [
      "327\n"
     ]
    }
   ],
   "source": [
    "print(len(feature))"
   ]
  },
  {
   "cell_type": "markdown",
   "metadata": {},
   "source": [
    "## 3. Setting up the Convolution Environment"
   ]
  },
  {
   "cell_type": "markdown",
   "metadata": {},
   "source": [
    "### 3.1. Convolution Layer\n",
    "\n",
    "DocLink : <https://www.tensorflow.org/api_docs/python/tf/nn/conv2d>"
   ]
  },
  {
   "cell_type": "code",
   "execution_count": 525,
   "metadata": {},
   "outputs": [],
   "source": [
    "# X = Input, w = Weight, b = Bias \n",
    "def conv2D(X,w,b, strides = 1, padding = 0,layerName = \"convLayer\"):\n",
    "    if (padding != 0):\n",
    "        X = tf.pad(X, [[0,0],[padding,padding],[padding,padding],[0,0]])\n",
    "    X = tf.nn.conv2d(X,w, strides=[1,strides,strides,1],padding = \"VALID\" , name = layerName)\n",
    "    X = tf.nn.bias_add(X,b)\n",
    "    return tf.nn.relu(X)"
   ]
  },
  {
   "cell_type": "markdown",
   "metadata": {},
   "source": [
    "### 3.2. Max-Pooling Layer\n",
    "*DocLink :* <https://www.tensorflow.org/api_docs/python/tf/nn/max_pool>"
   ]
  },
  {
   "cell_type": "code",
   "execution_count": 526,
   "metadata": {},
   "outputs": [],
   "source": [
    "def maxPool(X,k,strides = 1, padding = 0,layerName = \"maxPool\"):\n",
    "     if (padding != 0):\n",
    "        X = tf.pad(X, [[0,0],[padding,padding],[padding,padding],[0,0]])\n",
    "     return tf.nn.max_pool(X, ksize=[1,k,k,1], strides=[1,strides,strides,1], padding='VALID')   "
   ]
  },
  {
   "cell_type": "markdown",
   "metadata": {},
   "source": [
    "### 3.3. Convolutional Neural Net - Design\n",
    "\n",
    "__* <<< This architecture is based on the reference to one of the paper mentioned in the document. >>>*__"
   ]
  },
  {
   "cell_type": "code",
   "execution_count": 527,
   "metadata": {},
   "outputs": [],
   "source": [
    "def convNet(x, filters, bias, dropout):\n",
    "    x = tf.reshape(x, shape=[-1, IMAGE_SIZE, IMAGE_SIZE, 1])\n",
    "   \n",
    "    # INPUT\n",
    "    conv1 = conv2D(x, filters['in'], bias['in'], strides=2, padding=3, layerName=\"CONV1\")\n",
    "    pool1 = maxPool(conv1, k=3, strides=2, padding=1)\n",
    "    lrn = tf.nn.lrn(pool1)\n",
    "    \n",
    "    # HIDDEN LAYER 1\n",
    "    conv2a = conv2D(lrn, filters['2a'], bias['2a'], strides=1, padding=0, layerName=\"CONV2A\")\n",
    "    pool2a = maxPool(lrn, k=3, strides=1, padding=1)\n",
    "    \n",
    "    # HIDDEN LAYER 2B \n",
    "    conv2b = conv2D(conv2a, filters['2b'], bias['2b'], strides=1, padding=1, layerName=\"CONV2B\")\n",
    "    # HIDDEN LAYER 2C\n",
    "    conv2c = conv2D(pool2a, filters['2c'], bias['2c'], strides=1, padding=0, layerName=\"CONV2C\")\n",
    "    # CONCATENATE 2B AND 2C\n",
    "    concat2 = tf.concat([conv2b, conv2c],3)\n",
    "    # Pooling 2B\n",
    "    pool2b = maxPool(concat2, k=3, strides=2, padding=1)\n",
    "    \n",
    "    # HIDDEN LAYER 3A\n",
    "    conv3a = conv2D(pool2b, filters['3a'], bias['3a'], strides=1, padding=0, layerName=\"CONV3A\")\n",
    "    # HIDDEN LAYER 3A\n",
    "    pool3a = maxPool(pool2b, k=3, strides=1, padding=1)\n",
    "    \n",
    "    # HIDDEN LAYER 3B\n",
    "    conv3b = conv2D(conv3a, filters['3b'], bias['3b'], strides=1, padding=1, layerName=\"CONV3B\")\n",
    "    # HIDDEN LAYER 3C\n",
    "    conv3c = conv2D(pool3a, filters['3c'], bias['3c'], strides=1, padding=0, layerName=\"CONV3C\")\n",
    "    # CONCATENATE 3B AND 3C\n",
    "    concat3 = tf.concat([conv3b, conv3c],3)\n",
    "    # POOLING 3B\n",
    "    pool3b = maxPool(concat3, k=3, strides=2, padding=1)\n",
    "    \n",
    "    # CREATING A FULLY CONNECTED LAYER\n",
    "    pool_shape = pool3b.get_shape().as_list()\n",
    "    fc = tf.reshape(\n",
    "        pool3b, [-1, pool_shape[1] * pool_shape[2] * pool_shape[3]]\n",
    "    )\n",
    "    fc = tf.add(tf.matmul(fc, filters['fc']), bias['fc'])\n",
    "    \n",
    "    # APPLY DROPOUT \n",
    "    fc = tf.nn.dropout(fc, dropout)\n",
    "    \n",
    "    # OUTPUT\n",
    "    out = tf.add(tf.matmul(fc, filters['out']), bias['out'])\n",
    "    \n",
    "    return out"
   ]
  },
  {
   "cell_type": "code",
   "execution_count": 533,
   "metadata": {},
   "outputs": [],
   "source": [
    "# Features\n",
    "X = tf.placeholder(tf.float32,[None,N_INPUT],name=\"X_Input\")\n",
    "y = tf.placeholder(tf.float32,[None,CLASS],name = \"y_out\")\n",
    "keep_prob = tf.placeholder(tf.float32)\n",
    "saver = tf.train.Saver()"
   ]
  },
  {
   "cell_type": "code",
   "execution_count": 534,
   "metadata": {},
   "outputs": [],
   "source": [
    "# Contruct Model\n",
    "out = convNet(X, filters, biases, keep_prob)"
   ]
  },
  {
   "cell_type": "code",
   "execution_count": 535,
   "metadata": {},
   "outputs": [],
   "source": [
    "# Define Loss and Optimizer\n",
    "cost = tf.reduce_mean(tf.nn.softmax_cross_entropy_with_logits(logits=out, labels=y))\n",
    "optimizer = tf.train.AdamOptimizer(learning_rate=LEARNING_RATE).minimize(cost)"
   ]
  },
  {
   "cell_type": "code",
   "execution_count": 536,
   "metadata": {},
   "outputs": [],
   "source": [
    "# Defining Accuracy \n",
    "# predicted = tf.argmax(out, 1)\n",
    "# actual = tf.argmax(y, 1)\n",
    "\n",
    "trueCount = tf.equal(tf.argmax(out, 1), tf.argmax(y, 1))\n",
    "accuracy = tf.reduce_mean(tf.cast(trueCount, tf.float32))\n",
    "\n",
    "# Variables Initialization\n",
    "init0 = tf.global_variables_initializer()\n",
    "init1 = tf.local_variables_initializer()"
   ]
  },
  {
   "cell_type": "code",
   "execution_count": 543,
   "metadata": {},
   "outputs": [],
   "source": [
    "gpu_options = tf.GPUOptions(allow_growth=True)\n",
    "session = tf.InteractiveSession(config=tf.ConfigProto(gpu_options=gpu_options))"
   ]
  },
  {
   "cell_type": "code",
   "execution_count": 581,
   "metadata": {},
   "outputs": [
    {
     "name": "stdout",
     "output_type": "stream",
     "text": [
      "Iteration: 0   Accuracy: 0.18413 Cost: 2.04699\n",
      "Iteration: 10   Accuracy: 0.24416 Cost: 1.87422\n",
      "Iteration: 20   Accuracy: 0.24883 Cost: 1.84856\n",
      "Iteration: 30   Accuracy: 0.25264 Cost: 1.83912\n",
      "Iteration: 40   Accuracy: 0.25590 Cost: 1.83225\n",
      "Iteration: 50   Accuracy: 0.25565 Cost: 1.82767\n",
      "Iteration: 60   Accuracy: 0.25678 Cost: 1.82445\n",
      "Iteration: 70   Accuracy: 0.25786 Cost: 1.82149\n",
      "Iteration: 80   Accuracy: 0.25840 Cost: 1.81914\n",
      "Iteration: 90   Accuracy: 0.25885 Cost: 1.81736\n",
      "Iteration: 100   Accuracy: 0.25931 Cost: 1.81589\n",
      "Iteration: 110   Accuracy: 0.25957 Cost: 1.81443\n",
      "Iteration: 120   Accuracy: 0.25971 Cost: 1.81324\n"
     ]
    },
    {
     "ename": "KeyboardInterrupt",
     "evalue": "",
     "output_type": "error",
     "traceback": [
      "\u001b[1;31m---------------------------------------------------------------------------\u001b[0m",
      "\u001b[1;31mKeyboardInterrupt\u001b[0m                         Traceback (most recent call last)",
      "\u001b[1;32m<ipython-input-581-a5de2f10f69e>\u001b[0m in \u001b[0;36m<module>\u001b[1;34m()\u001b[0m\n\u001b[0;32m     11\u001b[0m             \u001b[0mx1\u001b[0m \u001b[1;33m=\u001b[0m \u001b[0mnp\u001b[0m\u001b[1;33m.\u001b[0m\u001b[0marray\u001b[0m\u001b[1;33m(\u001b[0m\u001b[0mfeature\u001b[0m\u001b[1;33m[\u001b[0m\u001b[0mBATCH_SIZE\u001b[0m\u001b[1;33m*\u001b[0m\u001b[0mnum\u001b[0m\u001b[1;33m:\u001b[0m\u001b[0mend\u001b[0m\u001b[1;33m]\u001b[0m\u001b[1;33m)\u001b[0m\u001b[1;33m.\u001b[0m\u001b[0mreshape\u001b[0m\u001b[1;33m(\u001b[0m\u001b[1;33m-\u001b[0m\u001b[1;36m1\u001b[0m\u001b[1;33m,\u001b[0m \u001b[0mN_INPUT\u001b[0m\u001b[1;33m)\u001b[0m\u001b[1;33m\u001b[0m\u001b[0m\n\u001b[0;32m     12\u001b[0m             \u001b[0my1\u001b[0m \u001b[1;33m=\u001b[0m \u001b[0mnp\u001b[0m\u001b[1;33m.\u001b[0m\u001b[0marray\u001b[0m\u001b[1;33m(\u001b[0m\u001b[0mlabels\u001b[0m\u001b[1;33m[\u001b[0m\u001b[0mBATCH_SIZE\u001b[0m\u001b[1;33m*\u001b[0m\u001b[0mnum\u001b[0m\u001b[1;33m:\u001b[0m\u001b[0mend\u001b[0m\u001b[1;33m]\u001b[0m\u001b[1;33m)\u001b[0m\u001b[1;33m.\u001b[0m\u001b[0mreshape\u001b[0m\u001b[1;33m(\u001b[0m\u001b[1;33m-\u001b[0m\u001b[1;36m1\u001b[0m\u001b[1;33m,\u001b[0m \u001b[0mCLASSES\u001b[0m\u001b[1;33m)\u001b[0m\u001b[1;33m\u001b[0m\u001b[0m\n\u001b[1;32m---> 13\u001b[1;33m             \u001b[0mloss\u001b[0m\u001b[1;33m,\u001b[0m \u001b[0mopt\u001b[0m\u001b[1;33m,\u001b[0m \u001b[0macc\u001b[0m \u001b[1;33m=\u001b[0m \u001b[0msess\u001b[0m\u001b[1;33m.\u001b[0m\u001b[0mrun\u001b[0m\u001b[1;33m(\u001b[0m\u001b[1;33m[\u001b[0m\u001b[0mcost\u001b[0m\u001b[1;33m,\u001b[0m \u001b[0moptimizer\u001b[0m\u001b[1;33m,\u001b[0m \u001b[0maccuracy\u001b[0m\u001b[1;33m]\u001b[0m\u001b[1;33m,\u001b[0m \u001b[0mfeed_dict\u001b[0m\u001b[1;33m=\u001b[0m\u001b[1;33m{\u001b[0m\u001b[0mX\u001b[0m\u001b[1;33m:\u001b[0m\u001b[0mx1\u001b[0m \u001b[1;33m,\u001b[0m \u001b[0my\u001b[0m\u001b[1;33m:\u001b[0m \u001b[0my1\u001b[0m\u001b[1;33m,\u001b[0m \u001b[0mkeep_prob\u001b[0m\u001b[1;33m:\u001b[0m \u001b[0mDROPOUT\u001b[0m\u001b[1;33m}\u001b[0m\u001b[1;33m)\u001b[0m\u001b[1;33m\u001b[0m\u001b[0m\n\u001b[0m\u001b[0;32m     14\u001b[0m             \u001b[0mcostIter\u001b[0m\u001b[1;33m.\u001b[0m\u001b[0mappend\u001b[0m\u001b[1;33m(\u001b[0m\u001b[0mloss\u001b[0m\u001b[1;33m)\u001b[0m\u001b[1;33m\u001b[0m\u001b[0m\n\u001b[0;32m     15\u001b[0m             \u001b[0maccuIter\u001b[0m\u001b[1;33m.\u001b[0m\u001b[0mappend\u001b[0m\u001b[1;33m(\u001b[0m\u001b[0macc\u001b[0m\u001b[1;33m)\u001b[0m\u001b[1;33m\u001b[0m\u001b[0m\n",
      "\u001b[1;32m~\\AppData\\Local\\Programs\\Python\\Python36\\lib\\site-packages\\tensorflow\\python\\client\\session.py\u001b[0m in \u001b[0;36mrun\u001b[1;34m(self, fetches, feed_dict, options, run_metadata)\u001b[0m\n\u001b[0;32m    887\u001b[0m     \u001b[1;32mtry\u001b[0m\u001b[1;33m:\u001b[0m\u001b[1;33m\u001b[0m\u001b[0m\n\u001b[0;32m    888\u001b[0m       result = self._run(None, fetches, feed_dict, options_ptr,\n\u001b[1;32m--> 889\u001b[1;33m                          run_metadata_ptr)\n\u001b[0m\u001b[0;32m    890\u001b[0m       \u001b[1;32mif\u001b[0m \u001b[0mrun_metadata\u001b[0m\u001b[1;33m:\u001b[0m\u001b[1;33m\u001b[0m\u001b[0m\n\u001b[0;32m    891\u001b[0m         \u001b[0mproto_data\u001b[0m \u001b[1;33m=\u001b[0m \u001b[0mtf_session\u001b[0m\u001b[1;33m.\u001b[0m\u001b[0mTF_GetBuffer\u001b[0m\u001b[1;33m(\u001b[0m\u001b[0mrun_metadata_ptr\u001b[0m\u001b[1;33m)\u001b[0m\u001b[1;33m\u001b[0m\u001b[0m\n",
      "\u001b[1;32m~\\AppData\\Local\\Programs\\Python\\Python36\\lib\\site-packages\\tensorflow\\python\\client\\session.py\u001b[0m in \u001b[0;36m_run\u001b[1;34m(self, handle, fetches, feed_dict, options, run_metadata)\u001b[0m\n\u001b[0;32m   1118\u001b[0m     \u001b[1;32mif\u001b[0m \u001b[0mfinal_fetches\u001b[0m \u001b[1;32mor\u001b[0m \u001b[0mfinal_targets\u001b[0m \u001b[1;32mor\u001b[0m \u001b[1;33m(\u001b[0m\u001b[0mhandle\u001b[0m \u001b[1;32mand\u001b[0m \u001b[0mfeed_dict_tensor\u001b[0m\u001b[1;33m)\u001b[0m\u001b[1;33m:\u001b[0m\u001b[1;33m\u001b[0m\u001b[0m\n\u001b[0;32m   1119\u001b[0m       results = self._do_run(handle, final_targets, final_fetches,\n\u001b[1;32m-> 1120\u001b[1;33m                              feed_dict_tensor, options, run_metadata)\n\u001b[0m\u001b[0;32m   1121\u001b[0m     \u001b[1;32melse\u001b[0m\u001b[1;33m:\u001b[0m\u001b[1;33m\u001b[0m\u001b[0m\n\u001b[0;32m   1122\u001b[0m       \u001b[0mresults\u001b[0m \u001b[1;33m=\u001b[0m \u001b[1;33m[\u001b[0m\u001b[1;33m]\u001b[0m\u001b[1;33m\u001b[0m\u001b[0m\n",
      "\u001b[1;32m~\\AppData\\Local\\Programs\\Python\\Python36\\lib\\site-packages\\tensorflow\\python\\client\\session.py\u001b[0m in \u001b[0;36m_do_run\u001b[1;34m(self, handle, target_list, fetch_list, feed_dict, options, run_metadata)\u001b[0m\n\u001b[0;32m   1315\u001b[0m     \u001b[1;32mif\u001b[0m \u001b[0mhandle\u001b[0m \u001b[1;32mis\u001b[0m \u001b[1;32mNone\u001b[0m\u001b[1;33m:\u001b[0m\u001b[1;33m\u001b[0m\u001b[0m\n\u001b[0;32m   1316\u001b[0m       return self._do_call(_run_fn, self._session, feeds, fetches, targets,\n\u001b[1;32m-> 1317\u001b[1;33m                            options, run_metadata)\n\u001b[0m\u001b[0;32m   1318\u001b[0m     \u001b[1;32melse\u001b[0m\u001b[1;33m:\u001b[0m\u001b[1;33m\u001b[0m\u001b[0m\n\u001b[0;32m   1319\u001b[0m       \u001b[1;32mreturn\u001b[0m \u001b[0mself\u001b[0m\u001b[1;33m.\u001b[0m\u001b[0m_do_call\u001b[0m\u001b[1;33m(\u001b[0m\u001b[0m_prun_fn\u001b[0m\u001b[1;33m,\u001b[0m \u001b[0mself\u001b[0m\u001b[1;33m.\u001b[0m\u001b[0m_session\u001b[0m\u001b[1;33m,\u001b[0m \u001b[0mhandle\u001b[0m\u001b[1;33m,\u001b[0m \u001b[0mfeeds\u001b[0m\u001b[1;33m,\u001b[0m \u001b[0mfetches\u001b[0m\u001b[1;33m)\u001b[0m\u001b[1;33m\u001b[0m\u001b[0m\n",
      "\u001b[1;32m~\\AppData\\Local\\Programs\\Python\\Python36\\lib\\site-packages\\tensorflow\\python\\client\\session.py\u001b[0m in \u001b[0;36m_do_call\u001b[1;34m(self, fn, *args)\u001b[0m\n\u001b[0;32m   1321\u001b[0m   \u001b[1;32mdef\u001b[0m \u001b[0m_do_call\u001b[0m\u001b[1;33m(\u001b[0m\u001b[0mself\u001b[0m\u001b[1;33m,\u001b[0m \u001b[0mfn\u001b[0m\u001b[1;33m,\u001b[0m \u001b[1;33m*\u001b[0m\u001b[0margs\u001b[0m\u001b[1;33m)\u001b[0m\u001b[1;33m:\u001b[0m\u001b[1;33m\u001b[0m\u001b[0m\n\u001b[0;32m   1322\u001b[0m     \u001b[1;32mtry\u001b[0m\u001b[1;33m:\u001b[0m\u001b[1;33m\u001b[0m\u001b[0m\n\u001b[1;32m-> 1323\u001b[1;33m       \u001b[1;32mreturn\u001b[0m \u001b[0mfn\u001b[0m\u001b[1;33m(\u001b[0m\u001b[1;33m*\u001b[0m\u001b[0margs\u001b[0m\u001b[1;33m)\u001b[0m\u001b[1;33m\u001b[0m\u001b[0m\n\u001b[0m\u001b[0;32m   1324\u001b[0m     \u001b[1;32mexcept\u001b[0m \u001b[0merrors\u001b[0m\u001b[1;33m.\u001b[0m\u001b[0mOpError\u001b[0m \u001b[1;32mas\u001b[0m \u001b[0me\u001b[0m\u001b[1;33m:\u001b[0m\u001b[1;33m\u001b[0m\u001b[0m\n\u001b[0;32m   1325\u001b[0m       \u001b[0mmessage\u001b[0m \u001b[1;33m=\u001b[0m \u001b[0mcompat\u001b[0m\u001b[1;33m.\u001b[0m\u001b[0mas_text\u001b[0m\u001b[1;33m(\u001b[0m\u001b[0me\u001b[0m\u001b[1;33m.\u001b[0m\u001b[0mmessage\u001b[0m\u001b[1;33m)\u001b[0m\u001b[1;33m\u001b[0m\u001b[0m\n",
      "\u001b[1;32m~\\AppData\\Local\\Programs\\Python\\Python36\\lib\\site-packages\\tensorflow\\python\\client\\session.py\u001b[0m in \u001b[0;36m_run_fn\u001b[1;34m(session, feed_dict, fetch_list, target_list, options, run_metadata)\u001b[0m\n\u001b[0;32m   1300\u001b[0m           return tf_session.TF_Run(session, options,\n\u001b[0;32m   1301\u001b[0m                                    \u001b[0mfeed_dict\u001b[0m\u001b[1;33m,\u001b[0m \u001b[0mfetch_list\u001b[0m\u001b[1;33m,\u001b[0m \u001b[0mtarget_list\u001b[0m\u001b[1;33m,\u001b[0m\u001b[1;33m\u001b[0m\u001b[0m\n\u001b[1;32m-> 1302\u001b[1;33m                                    status, run_metadata)\n\u001b[0m\u001b[0;32m   1303\u001b[0m \u001b[1;33m\u001b[0m\u001b[0m\n\u001b[0;32m   1304\u001b[0m     \u001b[1;32mdef\u001b[0m \u001b[0m_prun_fn\u001b[0m\u001b[1;33m(\u001b[0m\u001b[0msession\u001b[0m\u001b[1;33m,\u001b[0m \u001b[0mhandle\u001b[0m\u001b[1;33m,\u001b[0m \u001b[0mfeed_dict\u001b[0m\u001b[1;33m,\u001b[0m \u001b[0mfetch_list\u001b[0m\u001b[1;33m)\u001b[0m\u001b[1;33m:\u001b[0m\u001b[1;33m\u001b[0m\u001b[0m\n",
      "\u001b[1;31mKeyboardInterrupt\u001b[0m: "
     ]
    }
   ],
   "source": [
    "with tf.Session(config=tf.ConfigProto(gpu_options=gpu_options)) as sess:\n",
    "    sess.run([init0,init1])\n",
    "    accuIter,costIter,accTemp,costTemp = [] ,[],[],[]\n",
    "    for iter in range(ITER_COUNT):\n",
    "        for num in range(int(len(feature)/BATCH_SIZE)) :\n",
    "            if num*BATCH_SIZE+BATCH_SIZE <= len(feature):\n",
    "                end = num*BATCH_SIZE+BATCH_SIZE\n",
    "            else:\n",
    "                end = len(feature)\n",
    "\n",
    "            x1 = np.array(feature[BATCH_SIZE*num:end]).reshape(-1, N_INPUT)\n",
    "            y1 = np.array(labels[BATCH_SIZE*num:end]).reshape(-1, CLASSES)\n",
    "            loss, opt, acc = sess.run([cost, optimizer, accuracy], feed_dict={X:x1 , y: y1, keep_prob: DROPOUT})\n",
    "            costIter.append(loss)\n",
    "            accuIter.append(acc)\n",
    "            accTemp.append(acc)\n",
    "            costTemp.append(loss)\n",
    "            avgAcc = sum(accTemp)/len(accTemp)\n",
    "            avgCost = sum(costTemp)/len(costTemp)\n",
    "        if (iter%DISPLAY_STEP == 0):\n",
    "            print(\"Iteration: %d \" % iter, \" Accuracy: %.5f\" % avgAcc , \"Cost: %.5f\" % avgCost)   "
   ]
  },
  {
   "cell_type": "code",
   "execution_count": null,
   "metadata": {},
   "outputs": [],
   "source": []
  }
 ],
 "metadata": {
  "kernelspec": {
   "display_name": "Python 3",
   "language": "python",
   "name": "python3"
  },
  "language_info": {
   "codemirror_mode": {
    "name": "ipython",
    "version": 3
   },
   "file_extension": ".py",
   "mimetype": "text/x-python",
   "name": "python",
   "nbconvert_exporter": "python",
   "pygments_lexer": "ipython3",
   "version": "3.6.4"
  }
 },
 "nbformat": 4,
 "nbformat_minor": 2
}
